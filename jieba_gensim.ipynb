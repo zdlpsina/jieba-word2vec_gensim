{
 "cells": [
  {
   "cell_type": "code",
   "execution_count": 1,
   "metadata": {},
   "outputs": [
    {
     "name": "stderr",
     "output_type": "stream",
     "text": [
      "Building prefix dict from the default dictionary ...\n",
      "Loading model from cache /tmp/jieba.cache\n",
      "Loading model cost 0.654 seconds.\n",
      "Prefix dict has been built succesfully.\n"
     ]
    }
   ],
   "source": [
    "# -*- coding: utf-8 -*-\n",
    "import jieba\n",
    "import jieba.analyse\n",
    "###设置成词，避免分割；\n",
    "jieba.suggest_freq('沙瑞金', True)\n",
    "jieba.suggest_freq('田国富', True)\n",
    "jieba.suggest_freq('高育良', True)\n",
    "jieba.suggest_freq('侯亮平', True)\n",
    "jieba.suggest_freq('钟小艾', True)\n",
    "jieba.suggest_freq('陈岩石', True)\n",
    "jieba.suggest_freq('欧阳菁', True)\n",
    "jieba.suggest_freq('易学习', True)\n",
    "jieba.suggest_freq('王大路', True)\n",
    "jieba.suggest_freq('蔡成功', True)\n",
    "jieba.suggest_freq('孙连城', True)\n",
    "jieba.suggest_freq('季昌明', True)\n",
    "jieba.suggest_freq('丁义珍', True)\n",
    "jieba.suggest_freq('郑西坡', True)\n",
    "jieba.suggest_freq('赵东来', True)\n",
    "jieba.suggest_freq('高小琴', True)\n",
    "jieba.suggest_freq('赵瑞龙', True)\n",
    "jieba.suggest_freq('林华华', True)\n",
    "jieba.suggest_freq('陆亦可', True)\n",
    "jieba.suggest_freq('刘新建', True)\n",
    "jieba.suggest_freq('刘庆祝', True)\n",
    "with open('./in_the_name_of_people.txt') as f:\n",
    "    document = f.read()\n",
    "    #document_decode = document.decode('GBK')\n",
    "    \n",
    "    document_cut = jieba.cut(document)\n",
    "    #print  ' '.join(jieba_cut)  //如果打印结果，则分词效果消失，后面的result无法显示\n",
    "    ##空格分割\n",
    "    result = ' '.join(document_cut)\n",
    "    result = result.encode('utf-8')\n",
    "    with open('./in_the_name_of_people_segment.txt', 'wb+') as f2:\n",
    "        f2.write(result)\n",
    "f.close()\n",
    "f2.close()"
   ]
  },
  {
   "cell_type": "code",
   "execution_count": 2,
   "metadata": {},
   "outputs": [],
   "source": [
    "import gensim"
   ]
  },
  {
   "cell_type": "code",
   "execution_count": 3,
   "metadata": {},
   "outputs": [
    {
     "name": "stderr",
     "output_type": "stream",
     "text": [
      "2019-01-16 16:03:05,414 : INFO : collecting all words and their counts\n",
      "2019-01-16 16:03:05,418 : INFO : PROGRESS: at sentence #0, processed 0 words, keeping 0 word types\n",
      "2019-01-16 16:03:05,465 : INFO : collected 17878 word types from a corpus of 161343 raw words and 2311 sentences\n",
      "2019-01-16 16:03:05,466 : INFO : Loading a fresh vocabulary\n",
      "2019-01-16 16:03:05,494 : INFO : effective_min_count=1 retains 17878 unique words (100% of original 17878, drops 0)\n",
      "2019-01-16 16:03:05,495 : INFO : effective_min_count=1 leaves 161343 word corpus (100% of original 161343, drops 0)\n",
      "2019-01-16 16:03:05,532 : INFO : deleting the raw counts dictionary of 17878 items\n",
      "2019-01-16 16:03:05,534 : INFO : sample=0.001 downsamples 38 most-common words\n",
      "2019-01-16 16:03:05,534 : INFO : downsampling leaves estimated 120578 word corpus (74.7% of prior 161343)\n",
      "2019-01-16 16:03:05,548 : INFO : constructing a huffman tree from 17878 words\n",
      "2019-01-16 16:03:05,842 : INFO : built huffman tree with maximum node depth 17\n",
      "2019-01-16 16:03:05,862 : INFO : estimated required memory for 17878 words and 100 dimensions: 33968200 bytes\n",
      "2019-01-16 16:03:05,863 : INFO : resetting layer weights\n",
      "2019-01-16 16:03:06,003 : INFO : training model with 3 workers on 17878 vocabulary and 100 features, using sg=0 hs=1 sample=0.001 negative=5 window=3\n",
      "2019-01-16 16:03:06,192 : INFO : worker thread finished; awaiting finish of 2 more threads\n",
      "2019-01-16 16:03:06,194 : INFO : worker thread finished; awaiting finish of 1 more threads\n",
      "2019-01-16 16:03:06,199 : INFO : worker thread finished; awaiting finish of 0 more threads\n",
      "2019-01-16 16:03:06,199 : INFO : EPOCH - 1 : training on 161343 raw words (120329 effective words) took 0.2s, 622030 effective words/s\n",
      "2019-01-16 16:03:06,438 : INFO : worker thread finished; awaiting finish of 2 more threads\n",
      "2019-01-16 16:03:06,441 : INFO : worker thread finished; awaiting finish of 1 more threads\n",
      "2019-01-16 16:03:06,455 : INFO : worker thread finished; awaiting finish of 0 more threads\n",
      "2019-01-16 16:03:06,456 : INFO : EPOCH - 2 : training on 161343 raw words (120484 effective words) took 0.3s, 473524 effective words/s\n",
      "2019-01-16 16:03:06,665 : INFO : worker thread finished; awaiting finish of 2 more threads\n",
      "2019-01-16 16:03:06,667 : INFO : worker thread finished; awaiting finish of 1 more threads\n",
      "2019-01-16 16:03:06,686 : INFO : worker thread finished; awaiting finish of 0 more threads\n",
      "2019-01-16 16:03:06,687 : INFO : EPOCH - 3 : training on 161343 raw words (120571 effective words) took 0.2s, 527311 effective words/s\n",
      "2019-01-16 16:03:06,931 : INFO : worker thread finished; awaiting finish of 2 more threads\n",
      "2019-01-16 16:03:06,934 : INFO : worker thread finished; awaiting finish of 1 more threads\n",
      "2019-01-16 16:03:06,937 : INFO : worker thread finished; awaiting finish of 0 more threads\n",
      "2019-01-16 16:03:06,938 : INFO : EPOCH - 4 : training on 161343 raw words (120615 effective words) took 0.2s, 483772 effective words/s\n",
      "2019-01-16 16:03:07,109 : INFO : worker thread finished; awaiting finish of 2 more threads\n",
      "2019-01-16 16:03:07,110 : INFO : worker thread finished; awaiting finish of 1 more threads\n",
      "2019-01-16 16:03:07,125 : INFO : worker thread finished; awaiting finish of 0 more threads\n",
      "2019-01-16 16:03:07,126 : INFO : EPOCH - 5 : training on 161343 raw words (120482 effective words) took 0.2s, 644747 effective words/s\n",
      "2019-01-16 16:03:07,127 : INFO : training on a 806715 raw words (602481 effective words) took 1.1s, 536731 effective words/s\n"
     ]
    }
   ],
   "source": [
    "# import modules & set up logging\n",
    "import logging\n",
    "import os\n",
    "from gensim.models import word2vec\n",
    "\n",
    "logging.basicConfig(format='%(asctime)s : %(levelname)s : %(message)s', level=logging.INFO)\n",
    "\n",
    "sentences = word2vec.LineSentence('./in_the_name_of_people_segment.txt') \n",
    "\n",
    "model = word2vec.Word2Vec(sentences, hs=1,min_count=1,window=3,size=100)"
   ]
  },
  {
   "cell_type": "code",
   "execution_count": 4,
   "metadata": {},
   "outputs": [
    {
     "name": "stderr",
     "output_type": "stream",
     "text": [
      "2019-01-16 16:03:10,676 : INFO : precomputing L2-norms of word weight vectors\n"
     ]
    },
    {
     "name": "stdout",
     "output_type": "stream",
     "text": [
      "陆亦可 0.9608763456344604\n",
      "侯亮平 0.9608219861984253\n",
      "赵东来 0.95868980884552\n",
      "蔡成功 0.9579250812530518\n",
      "祁同伟 0.9561973810195923\n"
     ]
    },
    {
     "name": "stderr",
     "output_type": "stream",
     "text": [
      "/home/zz/anaconda3/envs/tf/lib/python3.6/site-packages/gensim/matutils.py:737: FutureWarning: Conversion of the second argument of issubdtype from `int` to `np.signedinteger` is deprecated. In future, it will be treated as `np.int64 == np.dtype(int).type`.\n",
      "  if np.issubdtype(vec.dtype, np.int):\n"
     ]
    }
   ],
   "source": [
    "req_count = 5\n",
    "for key in model.wv.similar_by_word('李达康', topn =100):\n",
    "    if len(key[0])==3:\n",
    "        req_count -= 1\n",
    "        print(key[0], key[1])\n",
    "        if req_count == 0:\n",
    "            break;\n"
   ]
  },
  {
   "cell_type": "code",
   "execution_count": 5,
   "metadata": {},
   "outputs": [
    {
     "name": "stderr",
     "output_type": "stream",
     "text": [
      "/home/zz/anaconda3/envs/tf/lib/python3.6/site-packages/ipykernel_launcher.py:1: DeprecationWarning: Call to deprecated `__getitem__` (Method will be removed in 4.0.0, use self.wv.__getitem__() instead).\n",
      "  \"\"\"Entry point for launching an IPython kernel.\n"
     ]
    },
    {
     "data": {
      "text/plain": [
       "array([-0.4747214 , -0.24681547, -0.7769666 ,  0.18518503, -1.0058168 ,\n",
       "       -0.8081425 ,  0.74090177,  0.16583791,  0.69481796, -0.34573224,\n",
       "       -0.41951427,  0.3122756 , -0.7418703 , -0.44007394,  0.15507106,\n",
       "        0.17664048, -0.41049707,  0.08197951, -0.13209021,  0.16076626,\n",
       "       -0.12370502,  0.22383538, -0.29472345,  0.12190174, -0.18575548,\n",
       "        0.37860623,  0.47733685,  0.5234305 ,  0.16064233, -0.67018193,\n",
       "        1.18101   , -0.6957711 ,  0.3582691 , -0.25209743,  0.7435121 ,\n",
       "       -0.2506568 , -0.54220474, -0.16724317,  0.4209305 ,  0.17369537,\n",
       "       -0.6033884 , -0.16781513, -0.5334315 ,  0.2547243 ,  0.34675282,\n",
       "        0.10630511, -0.41610247, -0.13479367,  0.20518754,  0.04659441,\n",
       "        0.04207997, -0.09725336, -0.7426157 , -0.26094425,  0.4314564 ,\n",
       "       -0.10117485,  0.36989582, -0.08133541,  0.2705841 ,  0.07252928,\n",
       "        0.8674947 ,  0.08988688, -0.42139244,  0.16226953,  0.3052286 ,\n",
       "        0.3442405 , -0.10756452, -0.14063706, -0.11860788,  1.0927811 ,\n",
       "       -0.85074604, -0.6546957 , -0.28434834, -0.57339287, -0.01917451,\n",
       "       -0.70400643,  0.6550024 , -0.26164934,  0.5147475 , -0.2832384 ,\n",
       "        0.02773336,  0.22385308,  0.23391286,  0.1550776 , -1.1836803 ,\n",
       "       -0.00563546,  0.8042923 ,  0.33459443, -0.70975184, -0.27769145,\n",
       "        0.49994645, -0.41920605, -0.40898234,  0.62811714,  0.77303565,\n",
       "       -0.8092084 , -0.3658411 ,  0.6265639 , -0.09796804,  0.44302276],\n",
       "      dtype=float32)"
      ]
     },
     "execution_count": 5,
     "metadata": {},
     "output_type": "execute_result"
    }
   ],
   "source": [
    "model['李达康']"
   ]
  },
  {
   "cell_type": "code",
   "execution_count": 6,
   "metadata": {},
   "outputs": [
    {
     "name": "stderr",
     "output_type": "stream",
     "text": [
      "2019-01-16 16:03:15,453 : INFO : saving Word2Vec object under ./word2vec, separately None\n",
      "2019-01-16 16:03:15,456 : INFO : not storing attribute vectors_norm\n",
      "2019-01-16 16:03:15,459 : INFO : not storing attribute cum_table\n",
      "2019-01-16 16:03:15,795 : INFO : saved ./word2vec\n",
      "2019-01-16 16:03:15,795 : INFO : loading Word2Vec object from ./word2vec\n",
      "2019-01-16 16:03:16,008 : INFO : loading wv recursively from ./word2vec.wv.* with mmap=None\n",
      "2019-01-16 16:03:16,008 : INFO : setting ignored attribute vectors_norm to None\n",
      "2019-01-16 16:03:16,009 : INFO : loading vocabulary recursively from ./word2vec.vocabulary.* with mmap=None\n",
      "2019-01-16 16:03:16,009 : INFO : loading trainables recursively from ./word2vec.trainables.* with mmap=None\n",
      "2019-01-16 16:03:16,009 : INFO : setting ignored attribute cum_table to None\n",
      "2019-01-16 16:03:16,010 : INFO : loaded ./word2vec\n"
     ]
    }
   ],
   "source": [
    "##模型保存\n",
    "model.save('./word2vec')\n",
    "##模型加载\n",
    "model = gensim.models.Word2Vec.load('./word2vec')  "
   ]
  },
  {
   "cell_type": "code",
   "execution_count": null,
   "metadata": {},
   "outputs": [],
   "source": []
  }
 ],
 "metadata": {
  "kernelspec": {
   "display_name": "Python 3",
   "language": "python",
   "name": "python3"
  },
  "language_info": {
   "codemirror_mode": {
    "name": "ipython",
    "version": 3
   },
   "file_extension": ".py",
   "mimetype": "text/x-python",
   "name": "python",
   "nbconvert_exporter": "python",
   "pygments_lexer": "ipython3",
   "version": "3.6.6"
  }
 },
 "nbformat": 4,
 "nbformat_minor": 2
}
